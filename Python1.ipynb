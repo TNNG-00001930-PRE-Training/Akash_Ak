{
 "cells": [
  {
   "cell_type": "code",
   "execution_count": 5,
   "id": "c0a3de7e-d3ca-46f7-87c2-18baf496147e",
   "metadata": {},
   "outputs": [
    {
     "name": "stdout",
     "output_type": "stream",
     "text": [
      "python\n",
      "is\n",
      "language\n"
     ]
    }
   ],
   "source": [
    "str=\"python is a programming language\"\n",
    "li=str.split(\" \")\n",
    "for i in li:\n",
    "    # print(i)\n",
    "    if len(i)%2 ==0:\n",
    "        print(i)\n",
    "    "
   ]
  },
  {
   "cell_type": "code",
   "execution_count": null,
   "id": "c33eef1a-2def-4a13-a9d3-962a73148716",
   "metadata": {},
   "outputs": [],
   "source": []
  },
  {
   "cell_type": "code",
   "execution_count": null,
   "id": "19b5b2c7-b036-4180-a010-373cb517eec4",
   "metadata": {},
   "outputs": [],
   "source": []
  }
 ],
 "metadata": {
  "kernelspec": {
   "display_name": "Python 3 (ipykernel)",
   "language": "python",
   "name": "python3"
  },
  "language_info": {
   "codemirror_mode": {
    "name": "ipython",
    "version": 3
   },
   "file_extension": ".py",
   "mimetype": "text/x-python",
   "name": "python",
   "nbconvert_exporter": "python",
   "pygments_lexer": "ipython3",
   "version": "3.11.7"
  }
 },
 "nbformat": 4,
 "nbformat_minor": 5
}
